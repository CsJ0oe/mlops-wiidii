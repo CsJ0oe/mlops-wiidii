{
 "metadata": {
  "language_info": {
   "codemirror_mode": {
    "name": "ipython",
    "version": 3
   },
   "file_extension": ".py",
   "mimetype": "text/x-python",
   "name": "python",
   "nbconvert_exporter": "python",
   "pygments_lexer": "ipython3",
   "version": "3.8.5-final"
  },
  "orig_nbformat": 2,
  "kernelspec": {
   "name": "Python 3.8.5 64-bit",
   "display_name": "Python 3.8.5 64-bit",
   "metadata": {
    "interpreter": {
     "hash": "916dbcbb3f70747c44a77c7bcd40155683ae19c65e1c03b4aa3499c5328201f1"
    }
   }
  }
 },
 "nbformat": 4,
 "nbformat_minor": 2,
 "cells": [
  {
   "cell_type": "code",
   "execution_count": 8,
   "metadata": {},
   "outputs": [
    {
     "output_type": "stream",
     "name": "stdout",
     "text": [
      "Defaulting to user installation because normal site-packages is not writeable\n",
      "Requirement already satisfied: spacy in /usr/local/lib/python3.8/dist-packages (2.3.2)\n",
      "Requirement already satisfied: numpy>=1.15.0 in /usr/local/lib/python3.8/dist-packages (from spacy) (1.18.5)\n",
      "Requirement already satisfied: blis<0.5.0,>=0.4.0 in /usr/local/lib/python3.8/dist-packages (from spacy) (0.4.1)\n",
      "Requirement already satisfied: preshed<3.1.0,>=3.0.2 in /usr/local/lib/python3.8/dist-packages (from spacy) (3.0.4)\n",
      "Requirement already satisfied: setuptools in /usr/lib/python3/dist-packages (from spacy) (45.2.0)\n",
      "Requirement already satisfied: tqdm<5.0.0,>=4.38.0 in /usr/local/lib/python3.8/dist-packages (from spacy) (4.53.0)\n",
      "Requirement already satisfied: catalogue<1.1.0,>=0.0.7 in /usr/local/lib/python3.8/dist-packages (from spacy) (1.0.0)\n",
      "Requirement already satisfied: wasabi<1.1.0,>=0.4.0 in /usr/local/lib/python3.8/dist-packages (from spacy) (0.8.0)\n",
      "Requirement already satisfied: plac<1.2.0,>=0.9.6 in /usr/local/lib/python3.8/dist-packages (from spacy) (1.1.3)\n",
      "Requirement already satisfied: requests<3.0.0,>=2.13.0 in /usr/lib/python3/dist-packages (from spacy) (2.22.0)\n",
      "Requirement already satisfied: thinc==7.4.1 in /usr/local/lib/python3.8/dist-packages (from spacy) (7.4.1)\n",
      "Requirement already satisfied: cymem<2.1.0,>=2.0.2 in /usr/local/lib/python3.8/dist-packages (from spacy) (2.0.4)\n",
      "Requirement already satisfied: srsly<1.1.0,>=1.0.2 in /usr/local/lib/python3.8/dist-packages (from spacy) (1.0.4)\n",
      "Requirement already satisfied: murmurhash<1.1.0,>=0.28.0 in /usr/local/lib/python3.8/dist-packages (from spacy) (1.0.4)\n",
      "\u001b[33mWARNING: You are using pip version 20.2.4; however, version 20.3.3 is available.\n",
      "You should consider upgrading via the '/usr/bin/python3 -m pip install --upgrade pip' command.\u001b[0m\n"
     ]
    }
   ],
   "source": [
    "!pip3 install spacy"
   ]
  },
  {
   "cell_type": "code",
   "execution_count": 9,
   "metadata": {},
   "outputs": [],
   "source": [
    "import json\n",
    "import random\n",
    "import spacy\n",
    "from spacy.util import minibatch, compounding"
   ]
  },
  {
   "source": [
    "Import spaCy ,load model"
   ],
   "cell_type": "markdown",
   "metadata": {}
  },
  {
   "cell_type": "code",
   "execution_count": 10,
   "metadata": {},
   "outputs": [
    {
     "output_type": "stream",
     "name": "stdout",
     "text": [
      "Defaulting to user installation because normal site-packages is not writeable\n",
      "Requirement already satisfied: fr_core_news_sm==2.3.0 from https://github.com/explosion/spacy-models/releases/download/fr_core_news_sm-2.3.0/fr_core_news_sm-2.3.0.tar.gz#egg=fr_core_news_sm==2.3.0 in /home/joe/.local/lib/python3.8/site-packages (2.3.0)\n",
      "Requirement already satisfied: spacy<2.4.0,>=2.3.0 in /usr/local/lib/python3.8/dist-packages (from fr_core_news_sm==2.3.0) (2.3.2)\n",
      "Requirement already satisfied: setuptools in /usr/lib/python3/dist-packages (from spacy<2.4.0,>=2.3.0->fr_core_news_sm==2.3.0) (45.2.0)\n",
      "Requirement already satisfied: blis<0.5.0,>=0.4.0 in /usr/local/lib/python3.8/dist-packages (from spacy<2.4.0,>=2.3.0->fr_core_news_sm==2.3.0) (0.4.1)\n",
      "Requirement already satisfied: plac<1.2.0,>=0.9.6 in /usr/local/lib/python3.8/dist-packages (from spacy<2.4.0,>=2.3.0->fr_core_news_sm==2.3.0) (1.1.3)\n",
      "Requirement already satisfied: srsly<1.1.0,>=1.0.2 in /usr/local/lib/python3.8/dist-packages (from spacy<2.4.0,>=2.3.0->fr_core_news_sm==2.3.0) (1.0.4)\n",
      "Requirement already satisfied: murmurhash<1.1.0,>=0.28.0 in /usr/local/lib/python3.8/dist-packages (from spacy<2.4.0,>=2.3.0->fr_core_news_sm==2.3.0) (1.0.4)\n",
      "Requirement already satisfied: preshed<3.1.0,>=3.0.2 in /usr/local/lib/python3.8/dist-packages (from spacy<2.4.0,>=2.3.0->fr_core_news_sm==2.3.0) (3.0.4)\n",
      "Requirement already satisfied: wasabi<1.1.0,>=0.4.0 in /usr/local/lib/python3.8/dist-packages (from spacy<2.4.0,>=2.3.0->fr_core_news_sm==2.3.0) (0.8.0)\n",
      "Requirement already satisfied: tqdm<5.0.0,>=4.38.0 in /usr/local/lib/python3.8/dist-packages (from spacy<2.4.0,>=2.3.0->fr_core_news_sm==2.3.0) (4.53.0)\n",
      "Requirement already satisfied: numpy>=1.15.0 in /usr/local/lib/python3.8/dist-packages (from spacy<2.4.0,>=2.3.0->fr_core_news_sm==2.3.0) (1.18.5)\n",
      "Requirement already satisfied: requests<3.0.0,>=2.13.0 in /usr/lib/python3/dist-packages (from spacy<2.4.0,>=2.3.0->fr_core_news_sm==2.3.0) (2.22.0)\n",
      "Requirement already satisfied: cymem<2.1.0,>=2.0.2 in /usr/local/lib/python3.8/dist-packages (from spacy<2.4.0,>=2.3.0->fr_core_news_sm==2.3.0) (2.0.4)\n",
      "Requirement already satisfied: catalogue<1.1.0,>=0.0.7 in /usr/local/lib/python3.8/dist-packages (from spacy<2.4.0,>=2.3.0->fr_core_news_sm==2.3.0) (1.0.0)\n",
      "Requirement already satisfied: thinc==7.4.1 in /usr/local/lib/python3.8/dist-packages (from spacy<2.4.0,>=2.3.0->fr_core_news_sm==2.3.0) (7.4.1)\n",
      "\u001b[38;5;2m✔ Download and installation successful\u001b[0m\n",
      "You can now load the model via spacy.load('fr_core_news_sm')\n"
     ]
    }
   ],
   "source": [
    "!python3 -m spacy download fr_core_news_sm"
   ]
  },
  {
   "cell_type": "code",
   "execution_count": 11,
   "metadata": {},
   "outputs": [
    {
     "output_type": "execute_result",
     "data": {
      "text/plain": [
       "['tagger', 'parser', 'ner']"
      ]
     },
     "metadata": {},
     "execution_count": 11
    }
   ],
   "source": [
    "nlp = spacy.load('fr_core_news_sm')\n",
    "nlp.pipe_names"
   ]
  },
  {
   "source": [
    "Adding the built-in textcat component to the pipeline.\n"
   ],
   "cell_type": "markdown",
   "metadata": {}
  },
  {
   "cell_type": "code",
   "execution_count": 12,
   "metadata": {},
   "outputs": [
    {
     "output_type": "execute_result",
     "data": {
      "text/plain": [
       "['tagger', 'parser', 'ner', 'textcat']"
      ]
     },
     "metadata": {},
     "execution_count": 12
    }
   ],
   "source": [
    "textcat = nlp.create_pipe(\"textcat\", config={\"exclusive_classes\": True, \"architecture\": \"simple_cnn\"})\n",
    "nlp.add_pipe(textcat, last=True)\n",
    "nlp.pipe_names"
   ]
  },
  {
   "source": [
    "Adding the labels to textcat"
   ],
   "cell_type": "markdown",
   "metadata": {}
  },
  {
   "cell_type": "code",
   "execution_count": 13,
   "metadata": {},
   "outputs": [
    {
     "output_type": "execute_result",
     "data": {
      "text/plain": [
       "1"
      ]
     },
     "metadata": {},
     "execution_count": 13
    }
   ],
   "source": [
    "textcat.add_label(\"find-train\")\n",
    "textcat.add_label(\"irrelevant\")\n",
    "textcat.add_label(\"find-flight\")\n",
    "textcat.add_label(\"find-restaurant\")\n",
    "textcat.add_label(\"purchase\")\n",
    "textcat.add_label(\"find-around-me\")\n",
    "textcat.add_label(\"provide-showtimes\")\n",
    "textcat.add_label(\"find-hotel\")"
   ]
  },
  {
   "cell_type": "code",
   "execution_count": 15,
   "metadata": {},
   "outputs": [],
   "source": [
    "def load_data(root='data/training_set.json', limit=0, split=0.8):\n",
    "    with open(root, encoding=\"utf8\") as json_file:\n",
    "        train_data = json.load(json_file)\n",
    "    # Shuffle the data\n",
    "    list_intent = list({sample[\"intent\"] for sample in train_data})\n",
    "    train_data = [(sample[\"intent\"], sample[\"sentence\"]) for sample in train_data]\n",
    "    random.shuffle(train_data)\n",
    "    labels, texts = zip(*train_data)\n",
    "    # get the categories for each review\n",
    "    cats = []\n",
    "    for true_intent in labels:\n",
    "        tmp_cat = {intent_label : False for intent_label in list_intent}\n",
    "        tmp_cat[true_intent] = True\n",
    "        cats.append(tmp_cat)\n",
    "    # Splitting the training and evaluation data\n",
    "    split = int(len(train_data) * split)\n",
    "    return (texts[:split], cats[:split]), (texts[split:], cats[split:])"
   ]
  },
  {
   "cell_type": "code",
   "execution_count": 16,
   "metadata": {
    "tags": []
   },
   "outputs": [
    {
     "output_type": "execute_result",
     "data": {
      "text/plain": [
       "[(\"j'aimerais acheter des places pour le Stade Velodrome pour aller voir Marseille Lyon\",\n",
       "  {'cats': {'irrelevant': False,\n",
       "    'purchase': True,\n",
       "    'find-flight': False,\n",
       "    'find-train': False,\n",
       "    'provide-showtimes': False,\n",
       "    'find-hotel': False,\n",
       "    'find-around-me': False,\n",
       "    'find-restaurant': False}}),\n",
       " ('Bonjour Idiwii, tu aurais des idées pour un anniversaire ?',\n",
       "  {'cats': {'irrelevant': True,\n",
       "    'purchase': False,\n",
       "    'find-flight': False,\n",
       "    'find-train': False,\n",
       "    'provide-showtimes': False,\n",
       "    'find-hotel': False,\n",
       "    'find-around-me': False,\n",
       "    'find-restaurant': False}}),\n",
       " ('Rappele le service de livraison stp',\n",
       "  {'cats': {'irrelevant': True,\n",
       "    'purchase': False,\n",
       "    'find-flight': False,\n",
       "    'find-train': False,\n",
       "    'provide-showtimes': False,\n",
       "    'find-hotel': False,\n",
       "    'find-around-me': False,\n",
       "    'find-restaurant': False}}),\n",
       " ('Je recherche un hôtel dans le 14ème pour 30e la nuit',\n",
       "  {'cats': {'irrelevant': False,\n",
       "    'purchase': False,\n",
       "    'find-flight': False,\n",
       "    'find-train': False,\n",
       "    'provide-showtimes': False,\n",
       "    'find-hotel': True,\n",
       "    'find-around-me': False,\n",
       "    'find-restaurant': False}}),\n",
       " (\"c'est dommage, pour la semaine pro ça marche ?\",\n",
       "  {'cats': {'irrelevant': True,\n",
       "    'purchase': False,\n",
       "    'find-flight': False,\n",
       "    'find-train': False,\n",
       "    'provide-showtimes': False,\n",
       "    'find-hotel': False,\n",
       "    'find-around-me': False,\n",
       "    'find-restaurant': False}})]"
      ]
     },
     "metadata": {},
     "execution_count": 16
    }
   ],
   "source": [
    "# Calling the load_data() function \n",
    "(train_texts, train_cats), (dev_texts, dev_cats) = load_data()\n",
    "\n",
    "# Processing the final format of training data\n",
    "train_data = list(zip(train_texts,[{'cats': cats} for cats in train_cats]))\n",
    "train_data[:5]"
   ]
  },
  {
   "cell_type": "code",
   "execution_count": 17,
   "metadata": {},
   "outputs": [],
   "source": [
    "def evaluate(tokenizer, textcat, texts, cats):\n",
    "    docs = (tokenizer(text) for text in texts)\n",
    "    tp = 0.0  # True positives\n",
    "    fp = 1e-8  # False positives\n",
    "    fn = 1e-8  # False negatives\n",
    "    tn = 0.0  # True negatives\n",
    "    for i, doc in enumerate(textcat.pipe(docs)):\n",
    "        gold = cats[i]\n",
    "        for label, score in doc.cats.items():\n",
    "            if label not in gold:\n",
    "                continue\n",
    "            if score >= 0.5 and gold[label] >= 0.5:\n",
    "                tp += 1.0\n",
    "            elif score >= 0.5 and gold[label] < 0.5:\n",
    "                fp += 1.0\n",
    "            elif score < 0.5 and gold[label] < 0.5:\n",
    "                tn += 1\n",
    "            elif score < 0.5 and gold[label] >= 0.5:\n",
    "                fn += 1\n",
    "    precision = tp / (tp + fp)\n",
    "    recall = tp / (tp + fn)\n",
    "    if (precision + recall) == 0:\n",
    "        f_score = 0.0\n",
    "    else:\n",
    "        f_score = 2 * (precision * recall) / (precision + recall)\n",
    "    return {\"textcat_p\": precision, \"textcat_r\": recall, \"textcat_f\": f_score}"
   ]
  },
  {
   "cell_type": "code",
   "execution_count": 23,
   "metadata": {},
   "outputs": [
    {
     "output_type": "stream",
     "name": "stdout",
     "text": [
      "Training the model...\n",
      "LOSS \t  P  \t  R  \t  F  \n",
      "0.790\t0.841\t0.838\t0.839\n",
      "0.360\t0.841\t0.838\t0.839\n",
      "0.421\t0.849\t0.841\t0.845\n",
      "0.378\t0.852\t0.847\t0.850\n",
      "0.369\t0.849\t0.845\t0.847\n",
      "0.303\t0.852\t0.848\t0.850\n",
      "0.362\t0.851\t0.849\t0.850\n",
      "0.364\t0.848\t0.844\t0.846\n",
      "0.255\t0.857\t0.852\t0.854\n",
      "0.313\t0.854\t0.848\t0.851\n",
      "0.213\t0.848\t0.846\t0.847\n",
      "0.298\t0.854\t0.850\t0.852\n",
      "0.141\t0.860\t0.853\t0.856\n",
      "0.209\t0.862\t0.856\t0.859\n",
      "0.222\t0.858\t0.855\t0.856\n",
      "0.154\t0.856\t0.854\t0.855\n",
      "0.085\t0.860\t0.858\t0.859\n",
      "0.157\t0.855\t0.853\t0.854\n",
      "0.046\t0.854\t0.852\t0.853\n",
      "0.305\t0.857\t0.852\t0.854\n",
      "0.241\t0.853\t0.853\t0.853\n",
      "0.179\t0.851\t0.849\t0.850\n",
      "0.252\t0.850\t0.848\t0.849\n",
      "0.136\t0.849\t0.846\t0.847\n",
      "0.197\t0.848\t0.845\t0.846\n",
      "0.114\t0.848\t0.848\t0.848\n",
      "0.137\t0.847\t0.847\t0.847\n",
      "0.164\t0.849\t0.848\t0.848\n",
      "0.112\t0.850\t0.848\t0.849\n",
      "0.077\t0.855\t0.852\t0.853\n",
      "0.189\t0.853\t0.849\t0.851\n",
      "0.090\t0.854\t0.853\t0.853\n",
      "0.091\t0.854\t0.851\t0.852\n",
      "0.238\t0.859\t0.855\t0.857\n",
      "0.142\t0.856\t0.855\t0.856\n",
      "0.098\t0.856\t0.854\t0.855\n",
      "0.089\t0.860\t0.857\t0.858\n",
      "0.133\t0.858\t0.855\t0.856\n",
      "0.089\t0.857\t0.856\t0.857\n",
      "0.222\t0.858\t0.856\t0.857\n",
      "0.164\t0.860\t0.857\t0.859\n",
      "0.104\t0.857\t0.855\t0.856\n",
      "0.182\t0.864\t0.861\t0.862\n",
      "0.252\t0.862\t0.860\t0.861\n",
      "0.132\t0.862\t0.859\t0.861\n",
      "0.133\t0.860\t0.858\t0.859\n",
      "0.046\t0.860\t0.858\t0.859\n",
      "0.236\t0.856\t0.855\t0.856\n",
      "0.164\t0.856\t0.856\t0.856\n",
      "0.172\t0.853\t0.853\t0.853\n",
      "0.146\t0.857\t0.856\t0.857\n",
      "0.068\t0.858\t0.857\t0.858\n",
      "0.152\t0.861\t0.859\t0.860\n",
      "0.120\t0.859\t0.858\t0.859\n",
      "0.101\t0.854\t0.854\t0.854\n",
      "0.164\t0.856\t0.854\t0.855\n",
      "0.088\t0.855\t0.853\t0.854\n",
      "0.159\t0.858\t0.855\t0.856\n",
      "0.094\t0.858\t0.853\t0.855\n",
      "0.061\t0.858\t0.854\t0.856\n",
      "0.019\t0.858\t0.855\t0.856\n",
      "0.212\t0.858\t0.854\t0.856\n",
      "0.106\t0.854\t0.850\t0.852\n",
      "0.131\t0.853\t0.852\t0.852\n",
      "0.162\t0.852\t0.851\t0.851\n",
      "0.053\t0.852\t0.852\t0.852\n",
      "0.290\t0.855\t0.854\t0.855\n",
      "0.077\t0.853\t0.852\t0.852\n",
      "0.048\t0.851\t0.848\t0.850\n",
      "0.249\t0.856\t0.854\t0.855\n",
      "0.116\t0.861\t0.860\t0.861\n",
      "0.161\t0.861\t0.859\t0.860\n",
      "0.257\t0.862\t0.861\t0.861\n",
      "0.085\t0.865\t0.864\t0.864\n",
      "0.203\t0.866\t0.864\t0.865\n",
      "0.201\t0.867\t0.867\t0.867\n",
      "0.135\t0.862\t0.861\t0.861\n",
      "0.067\t0.860\t0.859\t0.860\n",
      "0.088\t0.858\t0.857\t0.858\n",
      "0.099\t0.861\t0.859\t0.860\n",
      "0.071\t0.858\t0.856\t0.857\n",
      "0.118\t0.860\t0.859\t0.860\n",
      "0.081\t0.859\t0.857\t0.858\n",
      "0.073\t0.858\t0.857\t0.858\n",
      "0.091\t0.857\t0.857\t0.857\n",
      "0.115\t0.857\t0.857\t0.857\n",
      "0.090\t0.857\t0.855\t0.856\n",
      "0.113\t0.856\t0.854\t0.855\n",
      "0.051\t0.853\t0.853\t0.853\n",
      "0.329\t0.854\t0.853\t0.854\n",
      "0.134\t0.855\t0.855\t0.855\n",
      "0.032\t0.855\t0.854\t0.855\n",
      "0.309\t0.857\t0.856\t0.857\n",
      "0.073\t0.861\t0.859\t0.860\n",
      "0.154\t0.861\t0.860\t0.861\n",
      "0.160\t0.863\t0.862\t0.862\n",
      "0.177\t0.861\t0.859\t0.860\n",
      "0.148\t0.860\t0.858\t0.859\n",
      "0.096\t0.860\t0.857\t0.858\n",
      "0.143\t0.859\t0.855\t0.857\n"
     ]
    }
   ],
   "source": [
    "epochs = 100\n",
    "\n",
    "# Disabling other components\n",
    "other_pipes = [pipe for pipe in nlp.pipe_names if pipe != 'textcat']\n",
    "with nlp.disable_pipes(*other_pipes):  # only train textcat\n",
    "    optimizer = nlp.begin_training()\n",
    "\n",
    "    print(\"Training the model...\")\n",
    "    print('{:^5}\\t{:^5}\\t{:^5}\\t{:^5}'.format('LOSS', 'P', 'R', 'F'))\n",
    "\n",
    "    # Performing training\n",
    "    for i in range(epochs):\n",
    "        losses = {}\n",
    "        batches = minibatch(train_data, size=compounding(4., 32., 1.001))\n",
    "        for batch in batches:\n",
    "            texts, annotations = zip(*batch)\n",
    "            nlp.update(texts, annotations, sgd=optimizer, drop=0.2,\n",
    "                       losses=losses)\n",
    "\n",
    "      # Calling the evaluate() function and printing the scores\n",
    "        with textcat.model.use_params(optimizer.averages):\n",
    "            scores = evaluate(nlp.tokenizer, textcat, dev_texts, dev_cats)\n",
    "        print('{0:.3f}\\t{1:.3f}\\t{2:.3f}\\t{3:.3f}'  \n",
    "              .format(losses['textcat'], scores['textcat_p'],\n",
    "                      scores['textcat_r'], scores['textcat_f']))\n"
   ]
  },
  {
   "cell_type": "code",
   "execution_count": 24,
   "metadata": {},
   "outputs": [],
   "source": [
    "nlp.to_disk('model_save')"
   ]
  },
  {
   "cell_type": "code",
   "execution_count": 25,
   "metadata": {},
   "outputs": [
    {
     "output_type": "execute_result",
     "data": {
      "text/plain": [
       "{'find-train': 3.590507865390514e-15,\n",
       " 'irrelevant': 4.926199639182505e-12,\n",
       " 'find-flight': 2.5922667455303287e-17,\n",
       " 'find-restaurant': 1.0,\n",
       " 'purchase': 3.831307233276293e-12,\n",
       " 'find-around-me': 5.606108737226268e-17,\n",
       " 'provide-showtimes': 3.2892091404479766e-15,\n",
       " 'find-hotel': 1.8262026277044568e-13}"
      ]
     },
     "metadata": {},
     "execution_count": 25
    }
   ],
   "source": [
    "# Testing the model\n",
    "test_text=\"J'ai besoin d'un restaurant italien pour ce soir, nous serons 4 convives\"\n",
    "doc=nlp(test_text)\n",
    "doc.cats "
   ]
  },
  {
   "cell_type": "code",
   "execution_count": null,
   "metadata": {},
   "outputs": [],
   "source": []
  }
 ]
}