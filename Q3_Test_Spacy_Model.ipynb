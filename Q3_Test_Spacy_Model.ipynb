{
 "metadata": {
  "language_info": {
   "codemirror_mode": {
    "name": "ipython",
    "version": 3
   },
   "file_extension": ".py",
   "mimetype": "text/x-python",
   "name": "python",
   "nbconvert_exporter": "python",
   "pygments_lexer": "ipython3",
   "version": "3.6.12-final"
  },
  "orig_nbformat": 2,
  "kernelspec": {
   "name": "python3",
   "display_name": "Python 3",
   "language": "python"
  }
 },
 "nbformat": 4,
 "nbformat_minor": 2,
 "cells": [
  {
   "cell_type": "code",
   "execution_count": 1,
   "metadata": {},
   "outputs": [],
   "source": [
    "import json\n",
    "import spacy"
   ]
  },
  {
   "cell_type": "code",
   "execution_count": 2,
   "metadata": {},
   "outputs": [],
   "source": [
    "def load_test_data(root='data/testing_set.json'):\n",
    "    with open(root, encoding=\"utf8\") as json_file:\n",
    "        data = json.load(json_file)\n",
    "    # Shuffle the data\n",
    "    list_intent = list({sample[\"intent\"] for sample in data})\n",
    "    data = [(sample[\"intent\"], sample[\"sentence\"]) for sample in data]\n",
    "    labels, texts = zip(*data)\n",
    "    # get the categories for each review\n",
    "    cats = []\n",
    "    for true_intent in labels:\n",
    "        tmp_cat = {intent_label : False for intent_label in list_intent}\n",
    "        tmp_cat[true_intent] = True\n",
    "        cats.append(tmp_cat)\n",
    "    return texts, cats\n",
    "\n",
    "def evaluate(tokenizer, textcat, texts, cats):\n",
    "    docs = (tokenizer(text) for text in texts)\n",
    "    tp = 0.0  # True positives\n",
    "    fp = 1e-8  # False positives\n",
    "    fn = 1e-8  # False negatives\n",
    "    tn = 0.0  # True negatives\n",
    "    for i, doc in enumerate(textcat.pipe(docs)):\n",
    "        gold = cats[i]\n",
    "        for label, score in doc.cats.items():\n",
    "            if label not in gold:\n",
    "                continue\n",
    "            if score >= 0.5 and gold[label] >= 0.5:\n",
    "                tp += 1.0\n",
    "            elif score >= 0.5 and gold[label] < 0.5:\n",
    "                fp += 1.0\n",
    "            elif score < 0.5 and gold[label] < 0.5:\n",
    "                tn += 1\n",
    "            elif score < 0.5 and gold[label] >= 0.5:\n",
    "                fn += 1\n",
    "    precision = tp / (tp + fp)\n",
    "    recall = tp / (tp + fn)\n",
    "    if (precision + recall) == 0:\n",
    "        f_score = 0.0\n",
    "    else:\n",
    "        f_score = 2 * (precision * recall) / (precision + recall)\n",
    "    return {\"textcat_p\": precision, \"textcat_r\": recall, \"textcat_f\": f_score}"
   ]
  },
  {
   "cell_type": "code",
   "execution_count": 3,
   "metadata": {},
   "outputs": [
    {
     "output_type": "stream",
     "name": "stdout",
     "text": [
      "  P  \t  R  \t  F  \n",
      "0.826\t0.824\t0.825\n"
     ]
    }
   ],
   "source": [
    "nlp = spacy.load('model_save')\n",
    "\n",
    "# get text categorize from model\n",
    "textcat = [x[1] for x in nlp.pipeline if x[0] == 'textcat'][0]\n",
    "\n",
    "test_texts, test_cats = load_test_data()\n",
    "\n",
    "other_pipes = [pipe for pipe in nlp.pipe_names if pipe != 'textcat']\n",
    "with nlp.disable_pipes(*other_pipes):  # only train textcat\n",
    "    print('{:^5}\\t{:^5}\\t{:^5}'.format('P', 'R', 'F'))\n",
    "\n",
    "\n",
    "    # Calling the evaluate() function and printing the scores\n",
    "    scores = evaluate(nlp.tokenizer, textcat, test_texts, test_cats)\n",
    "    print( '{0:.3f}\\t{1:.3f}\\t{2:.3f}'.format(scores['textcat_p'], scores['textcat_r'], scores['textcat_f']) )"
   ]
  }
 ]
}