{
 "metadata": {
  "language_info": {
   "codemirror_mode": {
    "name": "ipython",
    "version": 3
   },
   "file_extension": ".py",
   "mimetype": "text/x-python",
   "name": "python",
   "nbconvert_exporter": "python",
   "pygments_lexer": "ipython3",
   "version": "3.6.12-final"
  },
  "orig_nbformat": 2,
  "kernelspec": {
   "name": "python3",
   "display_name": "Python 3"
  }
 },
 "nbformat": 4,
 "nbformat_minor": 2,
 "cells": [
  {
   "source": [
    "# Generating the model response\n",
    "\n",
    "You have to run the docker image and bind its port to 8080"
   ],
   "cell_type": "markdown",
   "metadata": {}
  },
  {
   "cell_type": "code",
   "execution_count": 1,
   "metadata": {},
   "outputs": [],
   "source": [
    "import requests\n",
    "import pandas as pd\n",
    "import numpy as np\n",
    "from tqdm import tqdm"
   ]
  },
  {
   "cell_type": "code",
   "execution_count": 2,
   "metadata": {},
   "outputs": [
    {
     "output_type": "stream",
     "name": "stdout",
     "text": [
      "{'find-train': 0.05815774202346802, 'irrelevant': 0.5158529281616211, 'find-flight': 0.057573966681957245, 'find-restaurant': 0.07580501586198807, 'purchase': 0.08574576675891876, 'find-around-me': 0.07513963431119919, 'provide-showtimes': 0.06499148905277252, 'find-hotel': 0.06673342734575272}\n"
     ]
    }
   ],
   "source": [
    "response = requests.get('http://localhost:8080/api/intent?sentence=Ceci%est%un%test')\n",
    "\n",
    "# Printing json response\n",
    "print(response.json())"
   ]
  },
  {
   "cell_type": "code",
   "execution_count": 3,
   "metadata": {},
   "outputs": [
    {
     "output_type": "stream",
     "name": "stdout",
     "text": [
      "0.9999999701976776\n"
     ]
    }
   ],
   "source": [
    "# The sum of all the predictions is equal to ~1. This means that the model outputs a softmax result\n",
    "print(sum(response.json().values()))"
   ]
  },
  {
   "cell_type": "code",
   "execution_count": 4,
   "metadata": {},
   "outputs": [],
   "source": [
    "# Read training data or testing data\n",
    "df = pd.read_json('testing_set.json')"
   ]
  },
  {
   "cell_type": "code",
   "execution_count": 7,
   "metadata": {},
   "outputs": [
    {
     "output_type": "stream",
     "name": "stderr",
     "text": [
      "100%|██████████| 1065/1065 [00:15<00:00, 69.74it/s]\n"
     ]
    }
   ],
   "source": [
    "data = []\n",
    "class_names = list(response.json().keys())\n",
    "\n",
    "for index in tqdm(df.index, total=len(df)):\n",
    "    sentence = df.iloc[index].sentence\n",
    "    intent = df.iloc[index].intent\n",
    "    res = requests.get(f'http://localhost:8080/api/intent?sentence={sentence}')\n",
    "    i = np.argmax(list(res.json().values()))\n",
    "    max_prediction = class_names[i]\n",
    "    data.append({'intent': intent, 'max_prediction': max_prediction, **res.json()})\n",
    "\n",
    "    # if index > 20:\n",
    "    #     break"
   ]
  },
  {
   "cell_type": "code",
   "execution_count": 6,
   "metadata": {},
   "outputs": [
    {
     "output_type": "stream",
     "name": "stdout",
     "text": [
      "            intent   max_prediction  find-train  irrelevant  find-flight  \\\n0       irrelevant         purchase    0.019063    0.388085     0.027179   \n1       irrelevant       irrelevant    0.033228    0.542000     0.027649   \n2       irrelevant       irrelevant    0.017024    0.704971     0.020258   \n3         purchase       irrelevant    0.019862    0.422897     0.023757   \n4  find-restaurant  find-restaurant    0.029981    0.184255     0.009827   \n\n   find-restaurant  purchase  find-around-me  provide-showtimes  find-hotel  \n0         0.053374  0.398776        0.074593           0.010972    0.027957  \n1         0.029301  0.089124        0.062782           0.034890    0.181026  \n2         0.102957  0.057472        0.034300           0.025665    0.037352  \n3         0.027854  0.286700        0.131648           0.016949    0.070332  \n4         0.581406  0.127771        0.031913           0.021814    0.013032  \n"
     ]
    }
   ],
   "source": [
    "pd_data = pd.DataFrame(data)\n",
    "print(pd_data.head())\n",
    "\n",
    "pd_data.to_json('testing_model_predictions.json')"
   ]
  }
 ]
}